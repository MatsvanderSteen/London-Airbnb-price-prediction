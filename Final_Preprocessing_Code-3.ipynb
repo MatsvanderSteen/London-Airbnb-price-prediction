{
 "cells": [
  {
   "cell_type": "code",
   "execution_count": 1,
   "id": "88758293-67b3-4da4-9397-f07c559106d2",
   "metadata": {
    "tags": []
   },
   "outputs": [],
   "source": [
    "import pandas as pd\n",
    "import os\n",
    "\n",
    "# Read CSV file\n",
    "file_path = 'London_Listings.csv'  # Replace with your file path\n",
    "raw_df = pd.read_csv(file_path)"
   ]
  },
  {
   "cell_type": "code",
   "execution_count": 11,
   "id": "412e60d9-e467-49cd-b3ad-16a5e84836fe",
   "metadata": {
    "tags": []
   },
   "outputs": [],
   "source": [
    "# Importing required libraries\n",
    "import pandas as pd\n",
    "import numpy as np\n",
    "from numpy.random import seed\n",
    "import matplotlib.pyplot as plt\n",
    "#%matplotlib inline\n",
    "from datetime import datetime\n",
    "import seaborn as sns\n",
    "from sklearn.preprocessing import StandardScaler, MinMaxScaler\n",
    "from sklearn.model_selection import train_test_split, cross_val_score\n",
    "from sklearn.metrics import explained_variance_score, mean_squared_error, r2_score\n",
    "import time\n",
    "from IPython.display import SVG\n",
    "from statsmodels.tsa.seasonal import seasonal_decompose"
   ]
  },
  {
   "cell_type": "code",
   "execution_count": 3,
   "id": "b5f9ec8e-542b-4925-a62a-2b86d69fe460",
   "metadata": {
    "tags": []
   },
   "outputs": [],
   "source": [
    "pd.set_option('display.max_columns', len(raw_df.columns)) # To view all columns\n",
    "pd.set_option('display.max_rows', 100)"
   ]
  },
  {
   "cell_type": "code",
   "execution_count": 4,
   "id": "8c0b5c75-6571-49cb-beda-e0563961d612",
   "metadata": {
    "tags": []
   },
   "outputs": [],
   "source": [
    "cols_to_drop = ['listing_url', 'scrape_id','bathrooms_text', 'last_scraped', 'name', 'description', 'neighborhood_overview','picture_url','host_id', 'host_url', 'host_name', 'host_location', 'host_about', 'host_thumbnail_url', 'host_picture_url', 'host_neighbourhood', 'host_verifications', 'calendar_last_scraped','calendar_updated']\n",
    "df = raw_df.drop(cols_to_drop, axis=1)"
   ]
  },
  {
   "cell_type": "code",
   "execution_count": 5,
   "id": "a3af594d-1ef0-4f56-b044-127342088026",
   "metadata": {
    "tags": []
   },
   "outputs": [],
   "source": [
    "df.drop(['neighbourhood_group_cleansed','license','neighbourhood'], axis=1, inplace=True)\n",
    "\n",
    "df.set_index('id', inplace=True) # The id will be used as the index, as this could be useful in future e.g. if a separate dataset containing reviews for each property is linked to this one"
   ]
  },
  {
   "cell_type": "code",
   "execution_count": 6,
   "id": "e8778d4a-347e-4699-af81-54d9ef276ba3",
   "metadata": {
    "tags": []
   },
   "outputs": [],
   "source": [
    "df.drop(['host_total_listings_count', 'calculated_host_listings_count', 'calculated_host_listings_count_entire_homes', 'calculated_host_listings_count_private_rooms', 'calculated_host_listings_count_shared_rooms'], axis=1, inplace=True)"
   ]
  },
  {
   "cell_type": "code",
   "execution_count": 8,
   "id": "2194386d-6353-404b-b454-1391d802d41f",
   "metadata": {
    "tags": []
   },
   "outputs": [],
   "source": [
    "df.drop(['minimum_minimum_nights', 'maximum_minimum_nights', 'minimum_maximum_nights', 'maximum_maximum_nights', 'minimum_nights_avg_ntm', 'maximum_nights_avg_ntm'], axis=1, inplace=True)"
   ]
  },
  {
   "cell_type": "code",
   "execution_count": 9,
   "id": "bc487bfc-e6dc-4896-84d3-019cbdef2c26",
   "metadata": {
    "tags": []
   },
   "outputs": [],
   "source": [
    "# Replacing columns with f/t with 0/1\n",
    "df.replace({'f': 0, 't': 1}, inplace=True)"
   ]
  },
  {
   "cell_type": "code",
   "execution_count": 10,
   "id": "6f8bc37f-5fde-4cfb-9070-1a4e66e5bcd6",
   "metadata": {
    "tags": []
   },
   "outputs": [],
   "source": [
    "df.drop(['has_availability'], axis=1, inplace=True)"
   ]
  },
  {
   "cell_type": "code",
   "execution_count": 11,
   "id": "f7ddb9a8-331d-47d7-9e54-cbbd8ed5f39b",
   "metadata": {
    "tags": []
   },
   "outputs": [],
   "source": [
    "# Converting to datetime\n",
    "df.host_since = pd.to_datetime(df.host_since) \n",
    "\n",
    "# Calculating the number of days\n",
    "df['host_days_active'] = (datetime(2024, 9, 6) - df.host_since).astype('timedelta64[D]')\n",
    "\n",
    "# Replacing null values with the median\n",
    "df.host_days_active.fillna(df.host_days_active.median(), inplace=True)"
   ]
  },
  {
   "cell_type": "code",
   "execution_count": 12,
   "id": "de8067e6-d4cb-457d-a518-e5d9e804ee74",
   "metadata": {
    "tags": []
   },
   "outputs": [],
   "source": [
    "df.host_response_time.fillna(\"unknown\", inplace=True)"
   ]
  },
  {
   "cell_type": "code",
   "execution_count": 13,
   "id": "b8ffc538-0c6f-46ea-a8cf-01f9a0f0e4c0",
   "metadata": {
    "tags": []
   },
   "outputs": [],
   "source": [
    "# Removing the % sign from the host_response_rate string and converting to an integer\n",
    "df.host_response_rate = df.host_response_rate.str[:-1].astype('float64')"
   ]
  },
  {
   "cell_type": "code",
   "execution_count": 14,
   "id": "33db4ab7-bd44-41dd-866c-2e671bd10141",
   "metadata": {
    "tags": []
   },
   "outputs": [],
   "source": [
    "# Bin into four categories\n",
    "df.host_response_rate = pd.cut(df.host_response_rate, bins=[0, 50, 90, 99, 100], labels=['0-49%', '50-89%', '90-99%', '100%'], include_lowest=True)\n",
    "\n",
    "# Converting to string\n",
    "df.host_response_rate = df.host_response_rate.astype('str')\n",
    "\n",
    "# Replace nulls with 'unknown'\n",
    "df.host_response_rate.replace('nan', 'unknown', inplace=True)\n"
   ]
  },
  {
   "cell_type": "code",
   "execution_count": 15,
   "id": "eb71b7d2-6da7-4a51-b1e7-d403268ac2ea",
   "metadata": {
    "tags": []
   },
   "outputs": [],
   "source": [
    "# Removing the % sign from the host_response_rate string and converting to an integer\n",
    "df.host_acceptance_rate = df.host_acceptance_rate.str[:-1].astype('float64')"
   ]
  },
  {
   "cell_type": "code",
   "execution_count": 16,
   "id": "a3c88784-95ed-4efc-9ff6-5dd4e5a5af06",
   "metadata": {
    "tags": []
   },
   "outputs": [],
   "source": [
    "# Bin into four categories\n",
    "df.host_acceptance_rate = pd.cut(df.host_acceptance_rate, bins=[0, 50, 90, 99, 100], labels=['0-49%', '50-89%', '90-99%', '100%'], include_lowest=True)\n",
    "\n",
    "# Converting to string\n",
    "df.host_acceptance_rate = df.host_acceptance_rate.astype('str')\n",
    "\n",
    "# Replace nulls with 'unknown'\n",
    "df.host_acceptance_rate.replace('nan', 'unknown', inplace=True)"
   ]
  },
  {
   "cell_type": "code",
   "execution_count": 18,
   "id": "32bf922d-ad95-4220-8105-6e581d2d8f5e",
   "metadata": {
    "tags": []
   },
   "outputs": [],
   "source": [
    "df.dropna(subset=['host_since'], inplace=True)"
   ]
  },
  {
   "cell_type": "code",
   "execution_count": 19,
   "id": "c6a39085-f1c2-4129-b091-ef8388eb7312",
   "metadata": {
    "tags": []
   },
   "outputs": [],
   "source": [
    "df.property_type.replace({\n",
    "    'Entire rental unit': 'House',\n",
    "    'Private room in rental unit': 'Apartment',\n",
    "    'Entire bungalow ': 'House',\n",
    "    'Entire condo': 'Apartment',\n",
    "    'Entire home': 'House',\n",
    "    'Private room in condo': 'Apartment',\n",
    "    'Entire serviced apartment': 'Apartment',\n",
    "    'Private room in townhouse': 'Apartment',\n",
    "    'Entire townhouse': 'House',\n",
    "    'Entire guesthouse': 'House',\n",
    "    'Private room in guesthouse': 'Apartment',\n",
    "    'Entire loft': 'Apartment',\n",
    "    'Private room in loft': 'Apartment',\n",
    "    'Private room in guest suite': 'Apartment',\n",
    "    'Private room in serviced Apartment': 'Apartment',\n",
    "    'Room in aparthotel': 'Apartment',\n",
    "    'Room in serviced apartment': 'Apartment',\n",
    "    'Private room': 'Apartment',\n",
    "    'Entire vacation home': 'House',\n",
    "    'Entire cottage': 'House', \n",
    "    'Entire place': 'House',\n",
    "    'Tiny home': 'House',\n",
    "    'Entire villa': 'House',\n",
    "    'Private room in vacation home': 'Apartment',\n",
    "    'Private room in cottage': 'Apartment',\n",
    "    'Entire chalet ': 'House',\n",
    "    }, inplace=True)\n",
    "\n",
    "# Replacing other categories with 'other'\n",
    "df.loc[~df.property_type.isin(['House', 'Apartment']), 'property_type'] = 'Other'"
   ]
  },
  {
   "cell_type": "code",
   "execution_count": 20,
   "id": "57b25db8-8c80-4397-b3e8-9c869c1ff3bb",
   "metadata": {
    "tags": []
   },
   "outputs": [],
   "source": [
    "for col in ['bathrooms', 'bedrooms', 'beds']:\n",
    "    df[col].fillna(df[col].median(), inplace=True)"
   ]
  },
  {
   "cell_type": "code",
   "execution_count": 21,
   "id": "85c872e4-de68-451c-819b-603e2f88ec86",
   "metadata": {
    "tags": []
   },
   "outputs": [],
   "source": [
    "# Creating a set of all possible amenities\n",
    "amenities_list = list(df.amenities)\n",
    "amenities_list_string = \" \".join(amenities_list)\n",
    "amenities_list_string = amenities_list_string.replace('{', '')\n",
    "amenities_list_string = amenities_list_string.replace('}', ',')\n",
    "amenities_list_string = amenities_list_string.replace('\"', '')\n",
    "amenities_set = [x.strip() for x in amenities_list_string.split(',')]\n",
    "amenities_set = set(amenities_set)"
   ]
  },
  {
   "cell_type": "code",
   "execution_count": 22,
   "id": "61e56fcc-c0f7-402f-b9e3-d3b11b821dbf",
   "metadata": {
    "tags": []
   },
   "outputs": [],
   "source": [
    "df.loc[df['amenities'].str.contains('24-hour check-in'), 'check_in_24h'] = 1\n",
    "df.loc[df['amenities'].str.contains('Air conditioning|Central air conditioning'), 'air_conditioning'] = 1\n",
    "df.loc[df['amenities'].str.contains('Amazon Echo|Apple TV|Game console|Netflix|Projector and screen|Smart TV'), 'high_end_electronics'] = 1\n",
    "df.loc[df['amenities'].str.contains('BBQ grill|Fire pit|Propane barbeque'), 'bbq'] = 1\n",
    "df.loc[df['amenities'].str.contains('Balcony|Patio'), 'balcony'] = 1\n",
    "df.loc[df['amenities'].str.contains('Beach view|Beachfront|Lake access|Mountain view|Ski-in/Ski-out|Waterfront'), 'nature_and_views'] = 1\n",
    "df.loc[df['amenities'].str.contains('Bed linens'), 'bed_linen'] = 1\n",
    "df.loc[df['amenities'].str.contains('Breakfast'), 'breakfast'] = 1\n",
    "df.loc[df['amenities'].str.contains('TV'), 'tv'] = 1\n",
    "df.loc[df['amenities'].str.contains('Coffee maker|Espresso machine'), 'coffee_machine'] = 1\n",
    "df.loc[df['amenities'].str.contains('Cooking basics'), 'cooking_basics'] = 1\n",
    "df.loc[df['amenities'].str.contains('Dishwasher|Dryer|Washer'), 'white_goods'] = 1\n",
    "df.loc[df['amenities'].str.contains('Elevator'), 'elevator'] = 1\n",
    "df.loc[df['amenities'].str.contains('Exercise equipment|Gym|gym'), 'gym'] = 1\n",
    "df.loc[df['amenities'].str.contains('Family/kid friendly|Children|children'), 'child_friendly'] = 1\n",
    "df.loc[df['amenities'].str.contains('parking'), 'parking'] = 1\n",
    "df.loc[df['amenities'].str.contains('Garden|Outdoor|Sun loungers|Terrace'), 'outdoor_space'] = 1\n",
    "df.loc[df['amenities'].str.contains('Host greets you'), 'host_greeting'] = 1\n",
    "df.loc[df['amenities'].str.contains('Hot tub|Jetted tub|hot tub|Sauna|Pool|pool'), 'hot_tub_sauna_or_pool'] = 1\n",
    "df.loc[df['amenities'].str.contains('Internet|Pocket wifi|Wifi'), 'internet'] = 1\n",
    "df.loc[df['amenities'].str.contains('Long term stays allowed'), 'long_term_stays'] = 1\n",
    "df.loc[df['amenities'].str.contains('Pets|pet|Cat|Cats|Dog|Dogs'), 'pets_allowed'] = 1\n",
    "df.loc[df['amenities'].str.contains('Private entrance'), 'private_entrance'] = 1\n",
    "df.loc[df['amenities'].str.contains('Safe|Security system'), 'secure'] = 1\n",
    "df.loc[df['amenities'].str.contains('Self check-in'), 'self_check_in'] = 1\n",
    "df.loc[df['amenities'].str.contains('Smoking allowed'), 'smoking_allowed'] = 1\n",
    "df.loc[df['amenities'].str.contains('Step-free access|Wheelchair|Accessible'), 'accessible'] = 1\n",
    "df.loc[df['amenities'].str.contains('Suitable for events'), 'event_suitable'] = 1"
   ]
  },
  {
   "cell_type": "code",
   "execution_count": 23,
   "id": "664bf358-05b5-49b1-8b53-71837c8728ee",
   "metadata": {
    "tags": []
   },
   "outputs": [],
   "source": [
    "# Replacing nulls with zeros for new columns\n",
    "cols_to_replace_nulls = df.iloc[:,41:].columns\n",
    "df[cols_to_replace_nulls] = df[cols_to_replace_nulls].fillna(0)\n",
    "\n",
    "# Produces a list of amenity features where one category (true or false) contains fewer than 10% of listings\n",
    "infrequent_amenities = []\n",
    "for col in df.iloc[:,39:].columns:\n",
    "    if df[col].sum() < len(df)/10:\n",
    "        infrequent_amenities.append(col)\n",
    "        \n",
    "# Dropping infrequent amenity features\n",
    "df.drop(infrequent_amenities, axis=1, inplace=True)\n",
    "\n",
    "# Dropping the original amenity feature\n",
    "df.drop('amenities', axis=1, inplace=True)"
   ]
  },
  {
   "cell_type": "code",
   "execution_count": 24,
   "id": "5058a2b7-cd52-4449-b731-84570e69bad2",
   "metadata": {
    "tags": []
   },
   "outputs": [],
   "source": [
    "df.price = df.price.str[1:-3]\n",
    "df.price = df.price.str.replace(\",\", \"\")"
   ]
  },
  {
   "cell_type": "code",
   "execution_count": 25,
   "id": "8db1f900-9577-4136-a523-faf556cfb15c",
   "metadata": {
    "tags": []
   },
   "outputs": [],
   "source": [
    "df.drop(['availability_30', 'availability_60', 'availability_365'], axis=1, inplace=True)"
   ]
  },
  {
   "cell_type": "code",
   "execution_count": 26,
   "id": "f82fab68-3abb-43d5-847e-ebd077cb7fbf",
   "metadata": {
    "tags": []
   },
   "outputs": [],
   "source": [
    "df.first_review = pd.to_datetime(df.first_review) # Converting to datetime\n",
    "\n",
    "# Calculating the number of days between the first review and the date the data was scraped\n",
    "df['time_since_first_review'] = (datetime(2024, 9, 6) - df.first_review).astype('timedelta64[D]')"
   ]
  },
  {
   "cell_type": "code",
   "execution_count": 27,
   "id": "1033d22a-c410-4213-a258-7d57ab2206f1",
   "metadata": {
    "tags": []
   },
   "outputs": [],
   "source": [
    "def bin_column(col, bins, labels, na_label='unknown'):\n",
    "    \"\"\"\n",
    "    Takes in a column name, bin cut points and labels, replaces the original column with a\n",
    "    binned version, and replaces nulls (with 'unknown' if unspecified).\n",
    "    \"\"\"\n",
    "    df[col] = pd.cut(df[col], bins=bins, labels=labels, include_lowest=True)\n",
    "    df[col] = df[col].cat.add_categories([na_label]).fillna(na_label)\n",
    "    df[col] = df[col].astype('str')"
   ]
  },
  {
   "cell_type": "code",
   "execution_count": 28,
   "id": "1370c749-d6da-478c-a04f-9f0ccced03c9",
   "metadata": {
    "tags": []
   },
   "outputs": [],
   "source": [
    "# Binning time since first review\n",
    "bin_column('time_since_first_review',\n",
    "           bins=[0, 182, 365, 730, 1460, max(df.time_since_first_review)],\n",
    "           labels=['0-6 months',\n",
    "                   '6-12 months',\n",
    "                   '1-2 years',\n",
    "                   '2-3 years',\n",
    "                   '4+ years'],\n",
    "           na_label='no reviews')"
   ]
  },
  {
   "cell_type": "code",
   "execution_count": 29,
   "id": "fb912b7d-a6e3-4651-aebe-f9cac9c08651",
   "metadata": {
    "tags": []
   },
   "outputs": [],
   "source": [
    "df.last_review = pd.to_datetime(df.last_review) # Converting to datetime\n",
    "\n",
    "# Calculating the number of days between the most recent review and the date the data was scraped\n",
    "df['time_since_last_review'] = (datetime(2024, 9, 6) - df.last_review).astype('timedelta64[D]')"
   ]
  },
  {
   "cell_type": "code",
   "execution_count": 30,
   "id": "4bb8bc83-04a5-4e7e-a82f-979b8cf045d7",
   "metadata": {
    "tags": []
   },
   "outputs": [],
   "source": [
    "# Binning time since last review\n",
    "bin_column('time_since_last_review',\n",
    "           bins=[0, 14, 60, 182, 365, max(df.time_since_last_review)],\n",
    "           labels=['0-2 weeks',\n",
    "                   '2-8 weeks',\n",
    "                   '2-6 months',\n",
    "                   '6-12 months',\n",
    "                   '1+ year'],\n",
    "           na_label='no reviews')"
   ]
  },
  {
   "cell_type": "code",
   "execution_count": 31,
   "id": "432b6634-bad9-49d2-a577-9baef743c250",
   "metadata": {
    "tags": []
   },
   "outputs": [],
   "source": [
    "# Dropping last_review - first_review will be kept for EDA and dropped later\n",
    "df.drop('last_review', axis=1, inplace=True)"
   ]
  },
  {
   "cell_type": "code",
   "execution_count": 32,
   "id": "cf2ccba5-a514-47d7-bb11-d6423e3da238",
   "metadata": {
    "tags": []
   },
   "outputs": [],
   "source": [
    "# Binning for all columns scored out of 10\n",
    "variables_to_plot = list(df.columns[df.columns.str.startswith(\"review_scores\") == True])\n",
    "\n",
    "for col in variables_to_plot:\n",
    "    bin_column(col,\n",
    "               bins=[0, 4, 4.5, 5],\n",
    "               labels=['0-4/5', '4.5/5', '5/5'],\n",
    "               na_label='no reviews')"
   ]
  },
  {
   "cell_type": "code",
   "execution_count": 33,
   "id": "593730ce-839b-4283-ab4b-b4832aa55740",
   "metadata": {
    "tags": []
   },
   "outputs": [],
   "source": [
    "df.drop(['number_of_reviews_ltm', 'reviews_per_month','number_of_reviews_l30d'], axis=1, inplace=True)"
   ]
  },
  {
   "cell_type": "code",
   "execution_count": 34,
   "id": "87b744e0-7a90-4c69-b141-e96db0358957",
   "metadata": {
    "tags": []
   },
   "outputs": [],
   "source": [
    "# Dropping host_since and first_review as they are no longer needed\n",
    "df.drop(['first_review'], axis=1, inplace=True)"
   ]
  },
  {
   "cell_type": "code",
   "execution_count": 35,
   "id": "69005843-31d8-42fb-a83c-87ec6cd2a34b",
   "metadata": {
    "tags": []
   },
   "outputs": [],
   "source": [
    "from sklearn.impute import SimpleImputer\n",
    "\n",
    "# Imputer for the most frequent value\n",
    "imputer = SimpleImputer(strategy='most_frequent')\n",
    "\n",
    "# Fit and transform the data\n",
    "df['host_is_superhost'] = imputer.fit_transform(df[['host_is_superhost']])"
   ]
  },
  {
   "cell_type": "code",
   "execution_count": 37,
   "id": "76727cc5-0031-4aca-b22f-944447dfbbe8",
   "metadata": {
    "tags": []
   },
   "outputs": [
    {
     "name": "stdout",
     "output_type": "stream",
     "text": [
      "Preprocessed_airbnb_listings scores zijn opgeslagen in Preprocessed_airbnb_listings.csv\n"
     ]
    }
   ],
   "source": [
    "# Exporteren naar CSV-bestand\n",
    "df.to_csv('Preprocessed_airbnb_listings.csv', index=True)\n",
    "\n",
    "# Controleer of het bestand correct is opgeslagen\n",
    "print(\"Preprocessed_airbnb_listings scores zijn opgeslagen in Preprocessed_airbnb_listings.csv\")"
   ]
  }
 ],
 "metadata": {
  "kernelspec": {
   "display_name": "Python 3 (ipykernel)",
   "language": "python",
   "name": "python3"
  },
  "language_info": {
   "codemirror_mode": {
    "name": "ipython",
    "version": 3
   },
   "file_extension": ".py",
   "mimetype": "text/x-python",
   "name": "python",
   "nbconvert_exporter": "python",
   "pygments_lexer": "ipython3",
   "version": "3.11.4"
  }
 },
 "nbformat": 4,
 "nbformat_minor": 5
}
