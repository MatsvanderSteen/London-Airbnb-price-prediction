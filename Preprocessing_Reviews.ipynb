{
 "cells": [
  {
   "cell_type": "code",
   "execution_count": 1,
   "id": "5e27319a-4aa4-47fd-89e8-02ba1528bda0",
   "metadata": {
    "tags": []
   },
   "outputs": [],
   "source": [
    "import pandas as pd\n",
    "import os\n",
    "\n",
    "# Read CSV file\n",
    "file_path1 = 'Reviews_London.csv'  # Replace with your file path\n",
    "raw_df_reviews = pd.read_csv(file_path1)"
   ]
  },
  {
   "cell_type": "code",
   "execution_count": 2,
   "id": "59b0a0b8-d29f-4b15-9726-1cad8f9b3aab",
   "metadata": {
    "tags": []
   },
   "outputs": [],
   "source": [
    "import re\n",
    "import string\n",
    "\n",
    "# Step 1: Drop unnecessary columns\n",
    "columns_to_drop = ['id', 'date','reviewer_id','reviewer_name']\n",
    "df = raw_df_reviews.drop(columns=columns_to_drop)\n",
    "\n",
    "df['comments'] = df['comments'].astype(str)"
   ]
  },
  {
   "cell_type": "code",
   "execution_count": null,
   "id": "47184eb9-ef8f-448e-a89c-ee646b38d645",
   "metadata": {
    "tags": []
   },
   "outputs": [],
   "source": [
    "# Step 2: Define a function to clean the reviews\n",
    "def clean_reviews(review):\n",
    "    # Remove numbers\n",
    "    review = re.sub(r'\\d+', '', review)\n",
    "    \n",
    "    # Remove punctuation\n",
    "    review = review.translate(str.maketrans('', '', string.punctuation))\n",
    "    \n",
    "    # Remove currency symbols\n",
    "    review = re.sub(r'[\\$\\£\\€\\¥]', '', review)\n",
    "    \n",
    "    # Remove emojis (using unicode ranges for emojis)\n",
    "    emoji_pattern = re.compile(\"[\"\n",
    "                           u\"\\U0001F600-\\U0001F64F\"  # emoticons\n",
    "                           u\"\\U0001F300-\\U0001F5FF\"  # symbols & pictographs\n",
    "                           u\"\\U0001F680-\\U0001F6FF\"  # transport & map symbols\n",
    "                           u\"\\U0001F1E0-\\U0001F1FF\"  # flags (iOS)\n",
    "                           \"]+\", flags=re.UNICODE)\n",
    "    review = emoji_pattern.sub(r'', review)\n",
    "    \n",
    "    # Strip leading and trailing whitespaces\n",
    "    review = review.strip()\n",
    "    \n",
    "    return review\n",
    "\n",
    "# Step 3: Apply the cleaning function to the 'reviews' column\n",
    "df['comments'] = df['comments'].apply(clean_reviews)\n",
    "\n",
    "# Step 4: Drop rows with empty reviews after cleaning\n",
    "df = df[df['comments'] != '']"
   ]
  },
  {
   "cell_type": "code",
   "execution_count": 4,
   "id": "e46ed0a0-eb03-4bc2-8eb2-a2f5fe258344",
   "metadata": {
    "tags": []
   },
   "outputs": [
    {
     "name": "stdout",
     "output_type": "stream",
     "text": [
      "Requirement already satisfied: textblob in /Users/wimvandersteen/anaconda3/lib/python3.11/site-packages (0.18.0.post0)\n",
      "Requirement already satisfied: nltk>=3.8 in /Users/wimvandersteen/anaconda3/lib/python3.11/site-packages (from textblob) (3.8.1)\n",
      "Requirement already satisfied: click in /Users/wimvandersteen/anaconda3/lib/python3.11/site-packages (from nltk>=3.8->textblob) (8.0.4)\n",
      "Requirement already satisfied: joblib in /Users/wimvandersteen/anaconda3/lib/python3.11/site-packages (from nltk>=3.8->textblob) (1.2.0)\n",
      "Requirement already satisfied: regex>=2021.8.3 in /Users/wimvandersteen/anaconda3/lib/python3.11/site-packages (from nltk>=3.8->textblob) (2022.7.9)\n",
      "Requirement already satisfied: tqdm in /Users/wimvandersteen/anaconda3/lib/python3.11/site-packages (from nltk>=3.8->textblob) (4.65.0)\n",
      "Note: you may need to restart the kernel to use updated packages.\n"
     ]
    }
   ],
   "source": [
    "pip install textblob"
   ]
  },
  {
   "cell_type": "code",
   "execution_count": 5,
   "id": "58119489-8172-4963-9b83-9a8185541f4e",
   "metadata": {
    "tags": []
   },
   "outputs": [],
   "source": [
    "from textblob import TextBlob\n",
    "import pandas as pd\n",
    "import re\n",
    "import string\n",
    "\n",
    "# Step 1: Define a function to analyze sentiment using TextBlob\n",
    "def analyze_sentiment(review):\n",
    "    if review.strip() == '':  # Handle empty reviews\n",
    "        return None\n",
    "    \n",
    "    blob = TextBlob(review)\n",
    "    \n",
    "    # Sentiment polarity ranges from -1 (negative) to 1 (positive)\n",
    "    return blob.sentiment.polarity\n",
    "\n",
    "# Step 2: Apply the sentiment analysis function to the 'reviews' column\n",
    "df['sentiment'] = df['comments'].apply(analyze_sentiment)\n",
    "\n",
    "# Step 3: Drop rows where reviews are empty or sentiment is None\n",
    "df = df.dropna(subset=['sentiment'])"
   ]
  },
  {
   "cell_type": "code",
   "execution_count": 6,
   "id": "fe6cc9bd-8b8b-4faf-98d9-83ab1ae54492",
   "metadata": {
    "tags": []
   },
   "outputs": [],
   "source": [
    "import pandas as pd\n",
    "from textblob import TextBlob\n",
    "import numpy as np\n",
    "\n",
    "# Stap 1: Groepeer per 'listing_id' en bereken het gemiddelde sentiment en aantal reviews\n",
    "aggregated_data = df.groupby('listing_id').agg(\n",
    "    avg_sentiment=('sentiment', 'mean'),  # Gemiddelde sentiment per listing\n",
    "    num_reviews=('comments', 'count')      # Aantal reviews per listing\n",
    ").reset_index()\n",
    "\n",
    "# Stap 2: Pas logaritmische normalisatie toe op het aantal reviews\n",
    "aggregated_data['log_normalized_reviews'] = np.log1p(aggregated_data['num_reviews'])\n",
    "\n",
    "# Stap 3: Vermenigvuldig de log-genormaliseerde reviews met het gemiddelde sentiment\n",
    "aggregated_data['weighted_sentiment'] = aggregated_data['avg_sentiment'] * aggregated_data['log_normalized_reviews']\n"
   ]
  },
  {
   "cell_type": "code",
   "execution_count": 5,
   "id": "a2d7c5f7-5308-4b1b-afdb-cfc2e2a8b6f1",
   "metadata": {
    "tags": []
   },
   "outputs": [
    {
     "ename": "NameError",
     "evalue": "name 'aggregated_data' is not defined",
     "output_type": "error",
     "traceback": [
      "\u001b[0;31m---------------------------------------------------------------------------\u001b[0m",
      "\u001b[0;31mNameError\u001b[0m                                 Traceback (most recent call last)",
      "Cell \u001b[0;32mIn[5], line 1\u001b[0m\n\u001b[0;32m----> 1\u001b[0m aggregated_data\u001b[38;5;241m.\u001b[39mhead()\n",
      "\u001b[0;31mNameError\u001b[0m: name 'aggregated_data' is not defined"
     ]
    }
   ],
   "source": [
    "aggregated_data.head()"
   ]
  },
  {
   "cell_type": "code",
   "execution_count": 7,
   "id": "2b77b015-c9c8-4667-be0b-e47be79a0a22",
   "metadata": {
    "tags": []
   },
   "outputs": [],
   "source": [
    "weighted_sentiment = aggregated_data[['listing_id','weighted_sentiment']]"
   ]
  },
  {
   "cell_type": "code",
   "execution_count": 8,
   "id": "6b6a0a90-dddb-4969-8a4f-f721d7e0bd4b",
   "metadata": {
    "tags": []
   },
   "outputs": [],
   "source": [
    "weighted_sentiment = weighted_sentiment.rename(columns={'listing_id': 'id'})"
   ]
  },
  {
   "cell_type": "code",
   "execution_count": 12,
   "id": "22ba4b87-b058-4385-8543-d563815f0dec",
   "metadata": {
    "tags": []
   },
   "outputs": [
    {
     "name": "stdout",
     "output_type": "stream",
     "text": [
      "<class 'pandas.core.frame.DataFrame'>\n",
      "Int64Index: 1778996 entries, 0 to 1783640\n",
      "Data columns (total 3 columns):\n",
      " #   Column      Dtype  \n",
      "---  ------      -----  \n",
      " 0   listing_id  int64  \n",
      " 1   comments    object \n",
      " 2   sentiment   float64\n",
      "dtypes: float64(1), int64(1), object(1)\n",
      "memory usage: 54.3+ MB\n"
     ]
    }
   ],
   "source": [
    "df.info()"
   ]
  },
  {
   "cell_type": "code",
   "execution_count": 9,
   "id": "5fb04532-ba79-4878-b31f-ed8aceed564b",
   "metadata": {
    "tags": []
   },
   "outputs": [
    {
     "name": "stdout",
     "output_type": "stream",
     "text": [
      "<class 'pandas.core.frame.DataFrame'>\n",
      "RangeIndex: 68704 entries, 0 to 68703\n",
      "Data columns (total 2 columns):\n",
      " #   Column              Non-Null Count  Dtype  \n",
      "---  ------              --------------  -----  \n",
      " 0   id                  68704 non-null  int64  \n",
      " 1   weighted_sentiment  68704 non-null  float64\n",
      "dtypes: float64(1), int64(1)\n",
      "memory usage: 1.0 MB\n"
     ]
    }
   ],
   "source": [
    "weighted_sentiment.info()"
   ]
  },
  {
   "cell_type": "code",
   "execution_count": 10,
   "id": "11343c37-2e18-4a9e-b3eb-c1d2c20588df",
   "metadata": {
    "tags": []
   },
   "outputs": [
    {
     "name": "stdout",
     "output_type": "stream",
     "text": [
      "Weighted sentiment scores zijn opgeslagen in weighted_sentiment.csv\n"
     ]
    }
   ],
   "source": [
    "# Exporteren naar CSV-bestand\n",
    "weighted_sentiment.to_csv('weighted_sentiment.csv', index=False)\n",
    "\n",
    "# Controleer of het bestand correct is opgeslagen\n",
    "print(\"Weighted sentiment scores zijn opgeslagen in weighted_sentiment.csv\")"
   ]
  }
 ],
 "metadata": {
  "kernelspec": {
   "display_name": "Python 3 (ipykernel)",
   "language": "python",
   "name": "python3"
  },
  "language_info": {
   "codemirror_mode": {
    "name": "ipython",
    "version": 3
   },
   "file_extension": ".py",
   "mimetype": "text/x-python",
   "name": "python",
   "nbconvert_exporter": "python",
   "pygments_lexer": "ipython3",
   "version": "3.11.4"
  }
 },
 "nbformat": 4,
 "nbformat_minor": 5
}
