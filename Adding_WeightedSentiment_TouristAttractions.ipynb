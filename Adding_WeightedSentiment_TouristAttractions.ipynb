{
 "cells": [
  {
   "cell_type": "code",
   "execution_count": 1,
   "id": "39f8a7b3-2025-47cd-8563-a00f2dd47875",
   "metadata": {
    "tags": []
   },
   "outputs": [],
   "source": [
    "import pandas as pd"
   ]
  },
  {
   "cell_type": "code",
   "execution_count": 2,
   "id": "827e95c4-d267-4819-a832-aefdaacf796b",
   "metadata": {
    "tags": []
   },
   "outputs": [],
   "source": [
    "# Laad de sentiment CSV in een DataFrame\n",
    "sentiment_df = pd.read_csv('weighted_sentiment.csv')\n",
    "listing_df = pd.read_csv('Preprocessed_airbnb_listings.csv')\n",
    "\n",
    "pd.set_option('display.max_columns', len(listing_df.columns)) # To view all columns\n",
    "pd.set_option('display.max_rows', 100)"
   ]
  },
  {
   "cell_type": "code",
   "execution_count": 3,
   "id": "f6ab6809-9695-47f4-b106-538f45999788",
   "metadata": {
    "tags": []
   },
   "outputs": [],
   "source": [
    "# Voeg de 'weighted sentiment' kolom toe aan df_other op basis van 'id'\n",
    "df = listing_df.merge(sentiment_df[['id', 'weighted_sentiment']], on='id', how='left')"
   ]
  },
  {
   "cell_type": "code",
   "execution_count": 4,
   "id": "c71e58e6-1886-41de-8001-690b3c5ebef0",
   "metadata": {
    "tags": []
   },
   "outputs": [],
   "source": [
    "# Replace NaN values with 0 in the 'reviews' column\n",
    "df['weighted_sentiment'] = df['weighted_sentiment'].fillna(0)"
   ]
  },
  {
   "cell_type": "code",
   "execution_count": 5,
   "id": "05ac26ad-9d51-460c-881c-d27b6fdb3f24",
   "metadata": {
    "tags": []
   },
   "outputs": [],
   "source": [
    "#Adding Tourist Attractions"
   ]
  },
  {
   "cell_type": "code",
   "execution_count": 6,
   "id": "b28961ad-d5af-49a8-adbc-952d22ea7192",
   "metadata": {
    "tags": []
   },
   "outputs": [
    {
     "name": "stdout",
     "output_type": "stream",
     "text": [
      "Requirement already satisfied: geopy in /Users/wimvandersteen/anaconda3/lib/python3.11/site-packages (2.4.1)\n",
      "Requirement already satisfied: geographiclib<3,>=1.52 in /Users/wimvandersteen/anaconda3/lib/python3.11/site-packages (from geopy) (2.0)\n",
      "Note: you may need to restart the kernel to use updated packages.\n"
     ]
    }
   ],
   "source": [
    "pip install geopy"
   ]
  },
  {
   "cell_type": "code",
   "execution_count": 7,
   "id": "7c36018d-adaf-47b6-877f-3f881e44ba48",
   "metadata": {
    "tags": []
   },
   "outputs": [],
   "source": [
    "# Coördinaten van de toeristische attracties\n",
    "attractions = {\n",
    "    'TowerOfLondon': (51.508530, -0.076132),  # Voorbeeld coördinaten\n",
    "    'LondonEye': (51.503399, -0.119519),\n",
    "    'SkyGarden': (51.511284, -0.083672)\n",
    "}"
   ]
  },
  {
   "cell_type": "code",
   "execution_count": 8,
   "id": "d3183778-8bcd-4f09-bd04-5ba15ba6e0ef",
   "metadata": {
    "tags": []
   },
   "outputs": [],
   "source": [
    "from geopy.distance import geodesic\n",
    "\n",
    "# Functie om de totale afstand naar de attracties te berekenen\n",
    "def total_distance_to_attractions(row, attractions):\n",
    "    total_distance = 0\n",
    "    for attraction in attractions.values():\n",
    "        distance = geodesic((row['latitude'], row['longitude']), attraction).kilometers\n",
    "        total_distance += distance\n",
    "    return total_distance\n",
    "\n",
    "# Bereken de totale afstand voor elke Airbnb en voeg deze toe als nieuwe kolom\n",
    "df['total_distance_to_attractions'] = df.apply(\n",
    "    lambda row: total_distance_to_attractions(row, attractions), axis=1\n",
    ")"
   ]
  },
  {
   "cell_type": "code",
   "execution_count": 10,
   "id": "63de98c6-a6f7-43fc-8bef-f061948b10b1",
   "metadata": {
    "tags": []
   },
   "outputs": [
    {
     "name": "stdout",
     "output_type": "stream",
     "text": [
      "Preprocessed_airbnblistings_ExternalFeatures scores zijn opgeslagen in Preprocessed_airbnblistings_ExternalFeatures.csv\n"
     ]
    }
   ],
   "source": [
    "# Exporteren naar CSV-bestand\n",
    "df.to_csv('Preprocessed_airbnblistings_ExternalFeatures.csv', index=True)\n",
    "\n",
    "# Controleer of het bestand correct is opgeslagen\n",
    "print(\"Preprocessed_airbnblistings_ExternalFeatures scores zijn opgeslagen in Preprocessed_airbnblistings_ExternalFeatures.csv\")"
   ]
  }
 ],
 "metadata": {
  "kernelspec": {
   "display_name": "Python 3 (ipykernel)",
   "language": "python",
   "name": "python3"
  },
  "language_info": {
   "codemirror_mode": {
    "name": "ipython",
    "version": 3
   },
   "file_extension": ".py",
   "mimetype": "text/x-python",
   "name": "python",
   "nbconvert_exporter": "python",
   "pygments_lexer": "ipython3",
   "version": "3.11.4"
  }
 },
 "nbformat": 4,
 "nbformat_minor": 5
}
